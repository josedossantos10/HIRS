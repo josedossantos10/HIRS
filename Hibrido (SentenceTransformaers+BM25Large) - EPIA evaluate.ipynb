{
 "cells": [
  {
   "cell_type": "code",
   "execution_count": 1,
   "id": "IyQy2-iH7QdU",
   "metadata": {
    "colab": {
     "base_uri": "https://localhost:8080/"
    },
    "id": "IyQy2-iH7QdU",
    "outputId": "2f780ce5-a5d4-4ee0-bfe2-153bb5879134"
   },
   "outputs": [
    {
     "name": "stderr",
     "output_type": "stream",
     "text": [
      "[nltk_data] Downloading package stopwords to\n",
      "[nltk_data]     C:\\Users\\josed\\AppData\\Roaming\\nltk_data...\n",
      "[nltk_data]   Package stopwords is already up-to-date!\n",
      "[nltk_data] Downloading package punkt to\n",
      "[nltk_data]     C:\\Users\\josed\\AppData\\Roaming\\nltk_data...\n",
      "[nltk_data]   Package punkt is already up-to-date!\n",
      "[nltk_data] Downloading package rslp to\n",
      "[nltk_data]     C:\\Users\\josed\\AppData\\Roaming\\nltk_data...\n",
      "[nltk_data]   Package rslp is already up-to-date!\n"
     ]
    }
   ],
   "source": [
    "#Importando a biblioteca nltk\n",
    "\n",
    "import nltk\n",
    "from sentence_transformers import SentenceTransformer, SentencesDataset, util, SentencesDataset, InputExample, losses\n",
    "from tqdm import tqdm \n",
    "\n",
    "nltk.download('stopwords')\n",
    "nltk.download('punkt')\n",
    "nltk.download('rslp')\n",
    "import pandas as pd\n",
    "all_models = {}"
   ]
  },
  {
   "attachments": {},
   "cell_type": "markdown",
   "id": "VG7jT7SWrvhU",
   "metadata": {
    "id": "VG7jT7SWrvhU"
   },
   "source": [
    "## BM25"
   ]
  },
  {
   "attachments": {},
   "cell_type": "markdown",
   "id": "zj36SyxgdTtJ",
   "metadata": {
    "id": "zj36SyxgdTtJ"
   },
   "source": [
    " ### *BM25* Okapi "
   ]
  },
  {
   "cell_type": "code",
   "execution_count": 2,
   "id": "random-charleston",
   "metadata": {
    "id": "random-charleston"
   },
   "outputs": [],
   "source": [
    "#Algoritmo do BM25 Okapi\n",
    "\n",
    "import math\n",
    "import numpy as np\n",
    "from multiprocessing import Pool, cpu_count\n",
    "\n",
    "\"\"\"\n",
    "All of these algorithms have been taken from the paper:\n",
    "Trotmam et al, Improvements to BM25 and Language Models Examined\n",
    "Here we implement all the BM25 variations mentioned. \n",
    "\"\"\"\n",
    "\n",
    "\n",
    "class BM25:\n",
    "    def __init__(self, corpus, tokenizer=None):\n",
    "        self.corpus_size = len(corpus)\n",
    "        self.avgdl = 0\n",
    "        self.doc_freqs = []\n",
    "        self.idf = {}\n",
    "        self.doc_len = []\n",
    "        self.tokenizer = tokenizer\n",
    "        #Tokenizar o corpus\n",
    "        if tokenizer:\n",
    "            corpus = self._tokenize_corpus(corpus)\n",
    "\n",
    "        nd = self._initialize(corpus)\n",
    "        self._calc_idf(nd)\n",
    "\n",
    "    def _initialize(self, corpus):\n",
    "        nd = {}  # word -> number of documents with word\n",
    "        num_doc = 0\n",
    "        for document in corpus:\n",
    "            self.doc_len.append(len(document))\n",
    "            num_doc += len(document)\n",
    "\n",
    "            frequencies = {}\n",
    "            for word in document:\n",
    "                if word not in frequencies:\n",
    "                    frequencies[word] = 0\n",
    "                frequencies[word] += 1\n",
    "            self.doc_freqs.append(frequencies)\n",
    "\n",
    "            for word, freq in frequencies.items():\n",
    "                try:\n",
    "                    nd[word] += 1\n",
    "                except KeyError:\n",
    "                    nd[word] = 1\n",
    "\n",
    "        self.avgdl = num_doc / self.corpus_size\n",
    "\n",
    "        return nd\n",
    "\n",
    "    def _tokenize_corpus(self, corpus):\n",
    "        pool = Pool(cpu_count())\n",
    "        tokenized_corpus = pool.map(self.tokenizer, corpus)\n",
    "        return tokenized_corpus\n",
    "\n",
    "    def _calc_idf(self, nd):\n",
    "        raise NotImplementedError()\n",
    "\n",
    "    def get_scores(self, query):\n",
    "        raise NotImplementedError()\n",
    "\n",
    "    def get_batch_scores(self, query, doc_ids):\n",
    "        raise NotImplementedError()\n",
    "\n",
    "    def get_top_n(self, query, documents, n=5):\n",
    "\n",
    "        assert self.corpus_size == len(documents), \"The documents given don't match the index corpus!\"\n",
    "\n",
    "        scores = self.get_scores(query)\n",
    "        top_n = np.argsort(scores)[::-1][:n]\n",
    "        return [documents[i] for i in top_n]\n",
    "\n",
    "    def get_top_n_ngram(self, score, documents, n=5):\n",
    "\n",
    "        assert self.corpus_size == len(documents), \"The documents given don't match the index corpus!\"\n",
    "\n",
    "        pdr = np.zeros(self.corpus_size)\n",
    "        alpha = 2\n",
    "        for ps in score:\n",
    "            pdr = np.add(pdr, alpha * ps)\n",
    "            alpha -= 1\n",
    "\n",
    "        top_n = np.argsort(pdr)[::-1][:n]\n",
    "        return [documents[i] for i in top_n]\n",
    "\n",
    "    def get_partial_score(self, query, documents):\n",
    "        assert self.corpus_size == len(documents), \"The documents given don't match the index corpus!\"\n",
    "\n",
    "        score = self.get_scores(query)\n",
    "\n",
    "        return score\n",
    "\n",
    "#BM25Okapi\n",
    "class BM25Okapi(BM25):\n",
    "    def __init__(self, corpus, tokenizer=None, k1=1.5, b=0.75, epsilon=0.25):\n",
    "        self.k1 = k1\n",
    "        self.b = b\n",
    "        self.epsilon = epsilon\n",
    "        super().__init__(corpus, tokenizer)\n",
    "\n",
    "    #Calculo do IDF (Inverse Document Frequency)\n",
    "    def _calc_idf(self, nd):\n",
    "        \"\"\"\n",
    "        Calculates frequencies of terms in documents and in corpus.\n",
    "        This algorithm sets a floor on the idf values to eps * average_idf\n",
    "        \"\"\"\n",
    "        # collect idf sum to calculate an average idf for epsilon value\n",
    "        idf_sum = 0\n",
    "        # collect words with negative idf to set them a special epsilon value.\n",
    "        # idf can be negative if word is contained in more than half of documents\n",
    "        negative_idfs = []\n",
    "        for word, freq in nd.items():\n",
    "            idf = math.log(self.corpus_size - freq + 0.5) - math.log(freq + 0.5)\n",
    "            self.idf[word] = idf\n",
    "            idf_sum += idf\n",
    "            if idf < 0:\n",
    "                negative_idfs.append(word)\n",
    "        self.average_idf = idf_sum / len(self.idf)\n",
    "\n",
    "        eps = self.epsilon * self.average_idf\n",
    "        for word in negative_idfs:\n",
    "            self.idf[word] = eps\n",
    "\n",
    "    #Avaliar a pontuacao de todos os documentos na base\n",
    "    def get_scores(self, query):\n",
    "        \"\"\"\n",
    "        The ATIRE BM25 variant uses an idf function which uses a log(idf) score. To prevent negative idf scores,\n",
    "        this algorithm also adds a floor to the idf value of epsilon.\n",
    "        See [Trotman, A., X. Jia, M. Crane, Towards an Efficient and Effective Search Engine] for more info\n",
    "        :param query:\n",
    "        :return:\n",
    "        \"\"\"\n",
    "        score = np.zeros(self.corpus_size)\n",
    "        doc_len = np.array(self.doc_len)\n",
    "        for q in query:\n",
    "            q_freq = np.array([(doc.get(q) or 0) for doc in self.doc_freqs])\n",
    "            score += (self.idf.get(q) or 0) * (q_freq * (self.k1 + 1) /\n",
    "                                               (q_freq + self.k1 * (1 - self.b + self.b * doc_len / self.avgdl)))\n",
    "        return score\n",
    "\n",
    "    def get_batch_scores(self, query, doc_ids):\n",
    "        \"\"\"\n",
    "        Calculate bm25 scores between query and subset of all docs\n",
    "        \"\"\"\n",
    "        assert all(di < len(self.doc_freqs) for di in doc_ids)\n",
    "        score = np.zeros(len(doc_ids))\n",
    "        doc_len = np.array(self.doc_len)[doc_ids]\n",
    "        for q in query:\n",
    "            q_freq = np.array([(self.doc_freqs[di].get(q) or 0) for di in doc_ids])\n",
    "            score += (self.idf.get(q) or 0) * (q_freq * (self.k1 + 1) /\n",
    "                                               (q_freq + self.k1 * (1 - self.b + self.b * doc_len / self.avgdl)))\n",
    "        return score.tolist()\n"
   ]
  },
  {
   "attachments": {},
   "cell_type": "markdown",
   "id": "Az0F-1IVdRf8",
   "metadata": {
    "id": "Az0F-1IVdRf8"
   },
   "source": [
    "### BM25L"
   ]
  },
  {
   "cell_type": "code",
   "execution_count": 3,
   "id": "d5DJ05SG-o7Q",
   "metadata": {
    "id": "d5DJ05SG-o7Q"
   },
   "outputs": [],
   "source": [
    "#Implementacao do BM25L - adapta parametros para corrigir a preferencia do Okapi por documentos mais curtos\n",
    "\n",
    "class BM25L(BM25):\n",
    "    def __init__(self, corpus, tokenizer=None, k1=1.5, b=0.75, epsilon=0.25):\n",
    "        self.k1 = k1\n",
    "        self.b = b\n",
    "        self.epsilon = epsilon\n",
    "        super().__init__(corpus, tokenizer)\n",
    "\n",
    "    #Calculo do IDF (Inverse Document Frequency)\n",
    "    def _calc_idf(self, nd):\n",
    "        \"\"\"\n",
    "        Calculates frequencies of terms in documents and in corpus.\n",
    "        This algorithm sets a floor on the idf values to eps * average_idf\n",
    "        \"\"\"\n",
    "        # collect idf sum to calculate an average idf for epsilon value\n",
    "        idf_sum = 0\n",
    "        # collect words with negative idf to set them a special epsilon value.\n",
    "        # idf can be negative if word is contained in more than half of documents\n",
    "        negative_idfs = []\n",
    "        for word, freq in nd.items():\n",
    "            idf = math.log(self.corpus_size + 1) - math.log(freq + 0.5)\n",
    "            self.idf[word] = idf\n",
    "            idf_sum += idf\n",
    "            if idf < 0:\n",
    "                negative_idfs.append(word)\n",
    "        self.average_idf = idf_sum / len(self.idf)\n",
    "\n",
    "        eps = self.epsilon * self.average_idf\n",
    "        for word in negative_idfs:\n",
    "            self.idf[word] = eps\n",
    "    \n",
    "    #Calculo do ctd\n",
    "    def get_ctd(self, q_freq, b, doc_len, avg_len):\n",
    "      ctd = q_freq/(1 - b + b*(doc_len)/(avg_len))\n",
    "      return ctd\n",
    "\n",
    "    #Avaliar a pontuacao de todos os documentos na base\n",
    "    def get_scores(self, query):\n",
    "        \"\"\"\n",
    "        The ATIRE BM25 variant uses an idf function which uses a log(idf) score. To prevent negative idf scores,\n",
    "        this algorithm also adds a floor to the idf value of epsilon.\n",
    "        See [Trotman, A., X. Jia, M. Crane, Towards an Efficient and Effective Search Engine] for more info\n",
    "        :param query:\n",
    "        :return:\n",
    "        \"\"\"\n",
    "        score = np.zeros(self.corpus_size)\n",
    "        doc_len = np.array(self.doc_len)\n",
    "\n",
    "        for q in query:\n",
    "            q_freq = np.array([(doc.get(q) or 0) for doc in self.doc_freqs])\n",
    "            ctd = self.get_ctd(q_freq, self.b, doc_len, self.avgdl)\n",
    "            score += (self.idf.get(q) or 0) * ( (ctd + 0.5) * (self.k1 + 1) /\n",
    "                                               ( (ctd + 0.5) + self.k1 ))\n",
    "        return score\n",
    "\n",
    "    def get_batch_scores(self, query, doc_ids):\n",
    "        \"\"\"\n",
    "        Calculate bm25 scores between query and subset of all docs\n",
    "        \"\"\"\n",
    "        assert all(di < len(self.doc_freqs) for di in doc_ids)\n",
    "        score = np.zeros(len(doc_ids))\n",
    "        doc_len = np.array(self.doc_len)[doc_ids]\n",
    "        for q in query:\n",
    "            q_freq = np.array([(self.doc_freqs[di].get(q) or 0) for di in doc_ids])\n",
    "            score += (self.idf.get(q) or 0) * (q_freq * (self.k1 + 1) /\n",
    "                                               (q_freq + self.k1 * (1 - self.b + self.b * doc_len / self.avgdl)))\n",
    "        return score.tolist()"
   ]
  },
  {
   "attachments": {},
   "cell_type": "markdown",
   "id": "Dyq44KaJyjTu",
   "metadata": {
    "id": "Dyq44KaJyjTu"
   },
   "source": [
    "### BM25Plus"
   ]
  },
  {
   "cell_type": "code",
   "execution_count": 4,
   "id": "wypOu5iSyjTv",
   "metadata": {
    "id": "wypOu5iSyjTv",
    "pycharm": {
     "name": "#%%\n"
    }
   },
   "outputs": [],
   "source": [
    "#BM25+\n",
    "class BM25plus(BM25):\n",
    "    def __init__(self, corpus, tokenizer=None, k1=1.5, b=0.75, epsilon=0.25):\n",
    "        self.k1 = k1\n",
    "        self.b = b\n",
    "        self.epsilon = epsilon\n",
    "        super().__init__(corpus, tokenizer)\n",
    "\n",
    "    #Calculo do IDF (Inverse Document Frequency)\n",
    "    def _calc_idf(self, nd):\n",
    "        \"\"\"\n",
    "        Calculates frequencies of terms in documents and in corpus.\n",
    "        This algorithm sets a floor on the idf values to eps * average_idf\n",
    "        \"\"\"\n",
    "        # collect idf sum to calculate an average idf for epsilon value\n",
    "        idf_sum = 0\n",
    "        # collect words with negative idf to set them a special epsilon value.\n",
    "        # idf can be negative if word is contained in more than half of documents\n",
    "        negative_idfs = []\n",
    "        for word, freq in nd.items():\n",
    "            idf = math.log(self.corpus_size + 1) - math.log(freq)\n",
    "            self.idf[word] = idf\n",
    "            idf_sum += idf\n",
    "            if idf < 0:\n",
    "                negative_idfs.append(word)\n",
    "        self.average_idf = idf_sum / len(self.idf)\n",
    "\n",
    "        eps = self.epsilon * self.average_idf\n",
    "        for word in negative_idfs:\n",
    "            self.idf[word] = eps\n",
    "\n",
    "    #Avaliar pontuação de todos os documentos na base\n",
    "    def get_scores(self, query):\n",
    "        \"\"\"\n",
    "        The ATIRE BM25 variant uses an idf function which uses a log(idf) score. To prevent negative idf scores,\n",
    "        this algorithm also adds a floor to the idf value of epsilon.\n",
    "        See [Trotman, A., X. Jia, M. Crane, Towards an Efficient and Effective Search Engine] for more info\n",
    "        :param query:\n",
    "        :return:\n",
    "        \"\"\"\n",
    "        score = np.zeros(self.corpus_size)\n",
    "        doc_len = np.array(self.doc_len)\n",
    "\n",
    "        for q in query:\n",
    "            q_freq = np.array([(doc.get(q) or 0) for doc in self.doc_freqs])\n",
    "            score += (self.idf.get(q) or 0) * ( (q_freq * (self.k1 + 1)) /\n",
    "                                               (self.k1*((1-self.b) + self.b*((doc_len)/(self.avgdl)) + q_freq) + 1))\n",
    "        return score\n"
   ]
  },
  {
   "attachments": {},
   "cell_type": "markdown",
   "id": "uW6YHuySdaRK",
   "metadata": {
    "id": "uW6YHuySdaRK"
   },
   "source": [
    "## Pré-processamento"
   ]
  },
  {
   "attachments": {},
   "cell_type": "markdown",
   "id": "gUIdaC6prgcU",
   "metadata": {
    "id": "gUIdaC6prgcU"
   },
   "source": [
    "### Savoy"
   ]
  },
  {
   "cell_type": "code",
   "execution_count": 5,
   "id": "dIVIVepprhf_",
   "metadata": {
    "id": "dIVIVepprhf_"
   },
   "outputs": [],
   "source": [
    "\n",
    "class Savoy:\n",
    "\n",
    "    def __removeAllPTAccent(self, old_word):\n",
    "        word = list(old_word)\n",
    "        len_word = len(word)-1\n",
    "        for i in range(len_word, -1, -1):\n",
    "            if word[i] == 'ä':\n",
    "                word[i] = 'a'\n",
    "            if word[i] == 'â':\n",
    "                word[i] = 'a'\n",
    "            if word[i] == 'à':\n",
    "                word[i] = 'a'\n",
    "            if word[i] == 'á':\n",
    "                word[i] = 'a'\n",
    "            if word[i] == 'ã':\n",
    "                word[i] = 'a'\n",
    "            if word[i] == 'ê':\n",
    "                word[i] = 'e'\n",
    "            if word[i] == 'é':\n",
    "                word[i] = 'e'\n",
    "            if word[i] == 'è':\n",
    "                word[i] = 'e'\n",
    "            if word[i] == 'ë':\n",
    "                word[i] = 'e'\n",
    "            if word[i] == 'ï':\n",
    "                word[i] = 'i'\n",
    "            if word[i] == 'î':\n",
    "                word[i] = 'i'\n",
    "            if word[i] == 'ì':\n",
    "                word[i] = 'i'\n",
    "            if word[i] == 'í':\n",
    "                word[i] = 'i'\n",
    "            if word[i] == 'ü':\n",
    "                word[i] = 'u'\n",
    "            if word[i] == 'ú':\n",
    "                word[i] = 'u'\n",
    "            if word[i] == 'ù':\n",
    "                word[i] = 'u'\n",
    "            if word[i] == 'û':\n",
    "                word[i] = 'u'\n",
    "            if word[i] == 'ô':\n",
    "                word[i] = 'o'\n",
    "            if word[i] == 'ö':\n",
    "                word[i] = 'o'\n",
    "            if word[i] == 'ó':\n",
    "                word[i] = 'o'\n",
    "            if word[i] == 'ò':\n",
    "                word[i] = 'o'\n",
    "            if word[i] == 'õ':\n",
    "                word[i] = 'o'\n",
    "            if word[i] == 'ç':\n",
    "                word[i] = 'c'\n",
    "\n",
    "        new_word = \"\".join(word)\n",
    "        return new_word\n",
    "\n",
    "    def __finalVowelPortuguese(self, word):\n",
    "        len_word = len(word)\n",
    "        if len_word > 3:\n",
    "            if word[-1] == 'e' or word[-1] == 'a' or word[-1] == 'o':\n",
    "                word = word[:-1]\n",
    "\n",
    "        return word\n",
    "\n",
    "    def __remove_PTsuffix(self, word):\n",
    "        len_word = len(word)\n",
    "\n",
    "        if len_word > 3:\n",
    "            if word[-1] == 's' and word[-2] == 'e' and (word[-3] == 'r' or word[-3] == 's' or word[-3] == 'z' or word[-3] == 'l'):\n",
    "                word = word[:-2]\n",
    "                return word\n",
    "        if len_word > 2:\n",
    "            if word[-1] == 's' and word[-2] == 'n':\n",
    "                new_word = list(word)\n",
    "                new_word[-2] = 'm'\n",
    "                sing = \"\".join(new_word)\n",
    "                sing = sing[:-1]\n",
    "                return sing\n",
    "\n",
    "        if len_word > 3:\n",
    "            if (word[-1] == 's' and word[-2] == 'i') and (word[-3] == 'e' or word[-3] == 'é'):\n",
    "                new_word = list(word)\n",
    "                new_word[-3] = 'e'\n",
    "                new_word[-2] = 'l'\n",
    "                sing = \"\".join(new_word)\n",
    "                sing = sing[:-1]\n",
    "                return sing\n",
    "\n",
    "        if len_word > 3:\n",
    "            if word[-1] == 's' and word[-2] == 'i' and word[-3] == 'a':\n",
    "                new_word = list(word)\n",
    "                new_word[-2] = 'l'\n",
    "                sing = \"\".join(new_word)\n",
    "                sing = sing[:-1]\n",
    "                return sing\n",
    "\n",
    "        if len_word > 3:\n",
    "            if word[-1] == 's' and word[-2] == 'i' and word[-3] == 'ó':\n",
    "                new_word = list(word)\n",
    "                new_word[-3] = 'o'\n",
    "                new_word[-2] = 'l'\n",
    "                sing = \"\".join(new_word)\n",
    "                sing = sing[:-1]\n",
    "                return sing\n",
    "\n",
    "        if len_word > 3:\n",
    "            if word[-1] == 's' and word[-2] == 'i':\n",
    "                new_word = list(word)\n",
    "                new_word[-1] = 'l'\n",
    "                sing = \"\".join(new_word)\n",
    "                return sing\n",
    "\n",
    "        if len_word > 2:\n",
    "            if word[-1] == 's' and word[-2] == 'e' and word[-3] == 'õ':\n",
    "                new_word = list(word)\n",
    "                new_word[-3] = 'ã'\n",
    "                new_word[-2] = 'o'\n",
    "                sing = \"\".join(new_word)\n",
    "                sing = sing[:-1]\n",
    "                return sing\n",
    "            if word[-1] == 's' and word[-2] == 'e' and word[-3] == 'ã':\n",
    "                new_word = list(word)\n",
    "                new_word[-2] = 'o'\n",
    "                sing = \"\".join(new_word)\n",
    "                sing = sing[:-1]\n",
    "                return sing\n",
    "\n",
    "        if len_word > 5:\n",
    "            if word[-1] == 'e' and word[-2] == 't' and word[-3] == 'n' and word[-4] == 'e' and word[-5] == 'm':\n",
    "                word = word[:-5]\n",
    "                return word\n",
    "\n",
    "        if len_word > 2:\n",
    "            if word[-1] == 's':\n",
    "                word = word[:-1]\n",
    "\n",
    "        return word\n",
    "\n",
    "    def __normFemininPortuguese(self, word):\n",
    "\n",
    "        len_word = len(word)\n",
    "\n",
    "        if len_word < 3 or word[-1] != 'a':\n",
    "            return word\n",
    "\n",
    "        if len_word > 6:\n",
    "\n",
    "            if word[-2] == 'h' and word[-3] == 'n' and word[-4] == 'i':\n",
    "                new_word = list(word)\n",
    "                new_word[-1] = 'o'\n",
    "                masc = \"\".join(new_word)\n",
    "                return masc\n",
    "\n",
    "            if word[-2] == 'c' and word[-3] == 'a' and word[-4] == 'i':\n",
    "                new_word = list(word)\n",
    "                new_word[-1] = 'o'\n",
    "                masc = \"\".join(new_word)\n",
    "                return masc\n",
    "\n",
    "            if word[-2] == 'r' and word[-3] == 'i' and word[-4] == 'e':\n",
    "                new_word = list(word)\n",
    "                new_word[-1] = 'o'\n",
    "                masc = \"\".join(new_word)\n",
    "                return masc\n",
    "\n",
    "        if len_word > 5:\n",
    "            if word[-2] == 'n' and word[-3] == 'o':\n",
    "                new_word = list(word)\n",
    "                new_word[-3] = 'ã'\n",
    "                new_word[-2] = 'o'\n",
    "                masc = \"\".join(new_word)\n",
    "                masc = masc[:-1]\n",
    "                return masc\n",
    "\n",
    "            if word[-2] == 'r' and word[-3] == 'o':\n",
    "                word = word[:-1]\n",
    "                return word\n",
    "\n",
    "            if word[-2] == 's' and word[-3] == 'o':\n",
    "                new_word = list(word)\n",
    "                new_word[-1] = 'o'\n",
    "                masc = \"\".join(new_word)\n",
    "                return masc\n",
    "\n",
    "            if word[-2] == 's' and word[-3] == 'e':\n",
    "                new_word = list(word)\n",
    "                new_word[-3] = 'ê'\n",
    "                masc = \"\".join(new_word)\n",
    "                masc = masc[:-1]\n",
    "                return masc\n",
    "\n",
    "            if word[-2] == 'c' and word[-3] == 'i':\n",
    "                new_word = list(word)\n",
    "                new_word[-1] = 'o'\n",
    "                masc = \"\".join(new_word)\n",
    "                return masc\n",
    "\n",
    "            if word[-2] == 'd' and word[-3] == 'i':\n",
    "                new_word = list(word)\n",
    "                new_word[-1] = 'o'\n",
    "                masc = \"\".join(new_word)\n",
    "                return masc\n",
    "\n",
    "            if word[-2] == 'd' and word[-3] == 'a':\n",
    "                new_word = list(word)\n",
    "                new_word[-1] = 'o'\n",
    "                masc = \"\".join(new_word)\n",
    "                return masc\n",
    "\n",
    "            if word[-2] == 'v' and word[-3] == 'i':\n",
    "                new_word = list(word)\n",
    "                new_word[-1] = 'o'\n",
    "                masc = \"\".join(new_word)\n",
    "                return masc\n",
    "\n",
    "            if word[-2] == 'm' and word[-3] == 'a':\n",
    "                new_word = list(word)\n",
    "                new_word[-1] = 'o'\n",
    "                masc = \"\".join(new_word)\n",
    "                return masc\n",
    "\n",
    "            if word[-2] == 'n':\n",
    "                new_word = list(word)\n",
    "                new_word[-1] = 'o'\n",
    "                masc = \"\".join(new_word)\n",
    "                return masc\n",
    "\n",
    "        return word\n",
    "\n",
    "    def stem(self, word):\n",
    "        len_word = len(word)\n",
    "        if len_word > 2:\n",
    "            word = self.__remove_PTsuffix(word)\n",
    "            word = self.__normFemininPortuguese(word)\n",
    "            word = self.__finalVowelPortuguese(word)\n",
    "            word = self.__removeAllPTAccent(word)\n",
    "\n",
    "        return word\n"
   ]
  },
  {
   "attachments": {},
   "cell_type": "markdown",
   "id": "p4XhMlK6rcuM",
   "metadata": {
    "id": "p4XhMlK6rcuM"
   },
   "source": [
    "### Aplicando pré-processamento"
   ]
  },
  {
   "cell_type": "code",
   "execution_count": 6,
   "id": "optical-winner",
   "metadata": {
    "id": "optical-winner"
   },
   "outputs": [],
   "source": [
    "from nltk.tokenize import word_tokenize\n",
    "from string import punctuation\n",
    "import nltk\n",
    "from unicodedata import normalize\n",
    "from nltk.stem import RSLPStemmer\n",
    "from nltk.util import ngrams\n",
    "from nltk.tokenize import RegexpTokenizer\n",
    "\n",
    "# Remove os acentos de uma string\n",
    "def _remove_acentos(txt):\n",
    "    return normalize('NFKD', txt).encode('ASCII', 'ignore').decode('ASCII')\n",
    "\n",
    "# Tokenizador\n",
    "def preprocess0(txt):   \n",
    "    terms = word_tokenize(txt)\n",
    "    # tokenizer = RegexpTokenizer('\\w+')\n",
    "    # terms = tokenizer.tokenize(txt.lower())\n",
    " #   terms = [word for word in terms if word not in stopwords]\n",
    "\n",
    "    return terms\n",
    "\n",
    "# Remoção de stopwords + acentuação\n",
    "def preprocess2(txt):\n",
    "    txt = _remove_acentos(txt)\n",
    "    stopwords = nltk.corpus.stopwords.words(\"portuguese\")\n",
    "    stopwords.extend(list(punctuation))\n",
    "    \n",
    "    # terms = word_tokenize(txt.lower())\n",
    "    tokenizer = RegexpTokenizer('\\w+')\n",
    "    terms = tokenizer.tokenize(txt.lower())\n",
    "    terms = [word for word in terms if word not in stopwords]\n",
    "\n",
    "    return terms\n",
    "\n",
    "# Remoção de stopwords + acentuação + steming\n",
    "def preprocess3(txt):\n",
    "    txt = _remove_acentos(txt)\n",
    "    stopwords = nltk.corpus.stopwords.words(\"portuguese\")\n",
    "    stopwords.extend(list(punctuation))\n",
    "\n",
    "    # stemmer = RSLPStemmer()\n",
    "    # terms = word_tokenize(txt.lower())\n",
    "    stemmer = Savoy()\n",
    "    tokenizer = RegexpTokenizer('\\w+')\n",
    "    terms = tokenizer.tokenize(txt.lower())\n",
    "    terms = [stemmer.stem(word) for word in terms if word not in stopwords]\n",
    "    return terms\n",
    "\n",
    "# Remoção de stopwords + acentuação + n-gram\n",
    "def preprocess_ngram(txt, n):\n",
    "    txt = _remove_acentos(txt)\n",
    "    stopwords = nltk.corpus.stopwords.words(\"portuguese\")\n",
    "    stopwords.extend(list(punctuation))\n",
    "\n",
    "    # terms = word_tokenize(txt.lower())\n",
    "    tokenizer = RegexpTokenizer('\\w+')\n",
    "    terms = tokenizer.tokenize(txt.lower())\n",
    "    terms = [word for word in terms if word not in stopwords]\n",
    "\n",
    "    ngram = list(ngrams(terms, n))\n",
    "\n",
    "    return ngram\n",
    "\n",
    "# Remoção de stopwords + acentuação + steming + n-gram\n",
    "def preprocess_ngram_stem(txt, n):\n",
    "    txt = _remove_acentos(txt)\n",
    "    stopwords = nltk.corpus.stopwords.words(\"portuguese\")\n",
    "    stopwords.extend(list(punctuation))\n",
    "\n",
    "    # stemmer = RSLPStemmer()\n",
    "    # terms = word_tokenize(txt.lower())\n",
    "    stemmer = Savoy()\n",
    "    tokenizer = RegexpTokenizer('\\w+')\n",
    "    terms = tokenizer.tokenize(txt.lower())\n",
    "    terms = [stemmer.stem(word) for word in terms if word not in stopwords]\n",
    "\n",
    "    ngram = list(ngrams(terms, n))\n",
    "\n",
    "    return ngram"
   ]
  },
  {
   "cell_type": "code",
   "execution_count": 7,
   "id": "3d94f26e",
   "metadata": {},
   "outputs": [],
   "source": [
    "df = pd.DataFrame()\n",
    "for i in range(0,5):\n",
    "    df = pd.concat([df, pd.read_csv(f\"../../../Scripts/propor2024/base_20230428_douglas-bill_corpus-part{i}.csv\")])"
   ]
  },
  {
   "cell_type": "code",
   "execution_count": 8,
   "id": "cfede201",
   "metadata": {},
   "outputs": [
    {
     "data": {
      "text/plain": [
       "(56603, 11)"
      ]
     },
     "execution_count": 8,
     "metadata": {},
     "output_type": "execute_result"
    }
   ],
   "source": [
    "df.shape"
   ]
  },
  {
   "cell_type": "code",
   "execution_count": 8,
   "id": "ee687718",
   "metadata": {},
   "outputs": [],
   "source": [
    "a = df['txtInteiroTeorLimpo'].apply(lambda x: len(preprocess0(x)))\n",
    "b = df['resumo'].apply(lambda x: len(preprocess0(x)))"
   ]
  },
  {
   "cell_type": "code",
   "execution_count": 9,
   "id": "b4739995",
   "metadata": {},
   "outputs": [],
   "source": [
    "new = df[['txtNome']]"
   ]
  },
  {
   "cell_type": "code",
   "execution_count": 10,
   "id": "62e796fe",
   "metadata": {},
   "outputs": [
    {
     "data": {
      "text/plain": [
       "17322"
      ]
     },
     "execution_count": 10,
     "metadata": {},
     "output_type": "execute_result"
    }
   ],
   "source": [
    "len([e for e in a if e <512])"
   ]
  },
  {
   "cell_type": "code",
   "execution_count": 11,
   "id": "db154c9c",
   "metadata": {},
   "outputs": [
    {
     "name": "stdout",
     "output_type": "stream",
     "text": [
      "0.00% das linhas têm mais de 512 palavras.\n"
     ]
    }
   ],
   "source": [
    "num_linhas = 0\n",
    "\n",
    "for num_palavras in b:\n",
    "    if num_palavras > 2048:\n",
    "        num_linhas += 1\n",
    "\n",
    "porcentagem = (num_linhas / len(b)) * 100\n",
    "\n",
    "print(f'{porcentagem:.2f}% das linhas têm mais de 512 palavras.')"
   ]
  },
  {
   "cell_type": "code",
   "execution_count": 12,
   "id": "f61dc9aa",
   "metadata": {},
   "outputs": [
    {
     "data": {
      "text/plain": [
       "367"
      ]
     },
     "execution_count": 12,
     "metadata": {},
     "output_type": "execute_result"
    }
   ],
   "source": [
    "max(b)"
   ]
  },
  {
   "cell_type": "code",
   "execution_count": 13,
   "id": "641bf5fc",
   "metadata": {},
   "outputs": [
    {
     "name": "stderr",
     "output_type": "stream",
     "text": [
      "C:\\Users\\josed\\AppData\\Local\\Temp\\ipykernel_19040\\1030275560.py:1: SettingWithCopyWarning: \n",
      "A value is trying to be set on a copy of a slice from a DataFrame.\n",
      "Try using .loc[row_indexer,col_indexer] = value instead\n",
      "\n",
      "See the caveats in the documentation: https://pandas.pydata.org/pandas-docs/stable/user_guide/indexing.html#returning-a-view-versus-a-copy\n",
      "  new['txtInteiroTeorLimpo'] = a\n"
     ]
    }
   ],
   "source": [
    "new['txtInteiroTeorLimpo'] = a"
   ]
  },
  {
   "cell_type": "code",
   "execution_count": 14,
   "id": "fec6a910",
   "metadata": {},
   "outputs": [],
   "source": [
    "new.to_excel('new_tokenscount.xlsx')"
   ]
  },
  {
   "cell_type": "code",
   "execution_count": 15,
   "id": "thermal-incidence",
   "metadata": {
    "id": "thermal-incidence"
   },
   "outputs": [],
   "source": [
    "# Obtem o nome do texto no df\n",
    "def get_name(df, doc,column_data):\n",
    "    return str(df[df[column_data]==doc].txtNome.to_numpy()[0]).strip()\n",
    "    #return str(df[df.content==doc].name.to_numpy()[0]).strip()"
   ]
  },
  {
   "cell_type": "code",
   "execution_count": 16,
   "id": "RasMPBz5eRGY",
   "metadata": {
    "id": "RasMPBz5eRGY"
   },
   "outputs": [],
   "source": [
    "def evaluate(df, arr_assunto, top_k, all_preprocessing, column_data):\n",
    "    data = df[column_data].to_numpy()\n",
    "    if all_preprocessing:\n",
    "        tokenized_corpus3 = [preprocess3(doc) for doc in data]                      #Stopwords + Acentuação + Stemming\n",
    "        bigram_corpus_stem = [preprocess_ngram_stem(doc, 2) for doc in data]        #Stopwords + Acentuação + Stemming + Bigram\n",
    "        bm25L_bigram_stem = BM25L(bigram_corpus_stem)           #Stopwords + Acentuação + Stemming + Bigram             #Tokenizer\n",
    "    else:\n",
    "        tokenized_corpus3 = [preprocess0(doc) for doc in data]         \n",
    "    bm25L_tokenstem = BM25L(tokenized_corpus3)              #Stopwords + Acentuação + Stemming\n",
    "\n",
    "    y,X = arr_assunto[:,0],arr_assunto[:,1]\n",
    "    y = [i.strip() for i in y]\n",
    "\n",
    "    '''\n",
    "    Obter o resultado do BM25 para cada query\n",
    "    '''\n",
    "    #Listas com os n documentos mais relevantes para cada versao do BM25\n",
    "    labels_nsL = list()             #Stopwords + Acentuação + Stemming + Unigram + Bigram (L)\n",
    "    l_v = list()\n",
    "    for l,x in zip((y),X):\n",
    "        if all_preprocessing:\n",
    "            tokenized_query3 = preprocess3(x)                   #Stopwords + Acentuação + Stemming\n",
    "            tokenized_queryb_stem = preprocess_ngram_stem(x,2)  #Stopwords + Acentuação + Stemming + Bigram\n",
    "        else:\n",
    "            tokenized_query3 = preprocess0(x)                   #Tokenizer\n",
    "        #Stopwords + Acentuação + Stemming + Unigram + Bigram (L)\n",
    "        scores_stem_l = list()\n",
    "        scores_stem_l.append(bm25L_tokenstem.get_partial_score(tokenized_query3, data))\n",
    "        if all_preprocessing:\n",
    "            scores_stem_l.append(bm25L_bigram_stem.get_partial_score(tokenized_queryb_stem, data))\n",
    "        top_n_stem_l = bm25L_tokenstem.get_top_n_ngram(scores_stem_l, data, n=top_k)\n",
    "\n",
    "\n",
    "        labelsnsL = [get_name(df,d,column_data) for d in top_n_stem_l]              #L\n",
    "        #Adicionar os resultados da query as listas\n",
    "        labels_nsL.append(labelsnsL)    #L\n",
    "\n",
    "        #Adicionar resposta esperada a lista\n",
    "        l_v.append(l)\n",
    "\n",
    "    res_nsL = list()                #Stopwords + Acentuação + Stemming + Unigram + Bigram (L)\n",
    "    for k in range(1, top_k+1):\n",
    "        resultsnsL = list()         #Stopwords + Acentuação + Stemming + Unigram + Bigram (L)\n",
    "        for i in range(len(l_v)):\n",
    "            if (l_v[i] in labels_nsL[i][:k]):\n",
    "                resultsnsL.append(1)\n",
    "            else:\n",
    "                resultsnsL.append(0)\n",
    "        res_nsL.append(sum(resultsnsL)/len(resultsnsL))\n",
    "\n",
    "    return res_nsL[-1]"
   ]
  },
  {
   "cell_type": "code",
   "execution_count": 36,
   "id": "30a61b26",
   "metadata": {},
   "outputs": [],
   "source": [
    "def evaluate_model(corpus_embeddings, query_embedding):\n",
    "    # corpus_embeddings = model.encode(corpus, convert_to_tensor=True)\n",
    "    res_vector = list()\n",
    "    try:\n",
    "        # query_embedding = model.encode(query, convert_to_tensor=True)\n",
    "        cos_scores = util.pytorch_cos_sim(query_embedding, corpus_embeddings)[0]\n",
    "        # top_results = torch.topk(cos_scores, k=top_k)\n",
    "\n",
    "        # if torch.cuda.is_available():\n",
    "        #     top_resuts_txt = [get_name(df, txt, in_field=column_data, out_field=\"txtNome\").strip() for txt in corpus[top_results[1].cpu().numpy()]]\n",
    "        # else:\n",
    "        #     top_resuts_txt = [get_name(df, txt, in_field=column_data, out_field=\"txtNome\").strip() for txt in corpus[top_results[1].numpy()]]\n",
    "\n",
    "        # res_vector.append([get_name(df_assunto, query, \"TxtAssunto\", \"NÚMERO-PROPOSIÇÃOSILEG\").strip(), top_resuts_txt])\n",
    "    except Exception as e:\n",
    "        print(f\"ERRO ao realizar encoding:{e}\")\n",
    "        pass\n",
    "    return cos_scores.numpy()"
   ]
  },
  {
   "cell_type": "code",
   "execution_count": 35,
   "id": "ce176509",
   "metadata": {},
   "outputs": [
    {
     "name": "stdout",
     "output_type": "stream",
     "text": [
      "[5 7 9]\n"
     ]
    }
   ],
   "source": [
    "a = np.array([1,2,3])\n",
    "b = np.array([4,5,6])\n",
    "c = a +b\n",
    "print(c)"
   ]
  },
  {
   "cell_type": "code",
   "execution_count": 48,
   "id": "5c81c232",
   "metadata": {},
   "outputs": [],
   "source": [
    "def evaluate(df, arr_assunto, top_k, all_preprocessing, column_data):\n",
    "    data = df[column_data].to_numpy()\n",
    "    if all_preprocessing:\n",
    "        tokenized_corpus3 = [preprocess3(doc) for doc in data]                      #Stopwords + Acentuação + Stemming\n",
    "        bigram_corpus_stem = [preprocess_ngram_stem(doc, 2) for doc in data]        #Stopwords + Acentuação + Stemming + Bigram\n",
    "        bm25L_bigram_stem = BM25L(bigram_corpus_stem)           #Stopwords + Acentuação + Stemming + Bigram             #Tokenizer\n",
    "    else:\n",
    "        tokenized_corpus3 = [preprocess0(doc) for doc in data]         \n",
    "    bm25L_tokenstem = BM25L(tokenized_corpus3)              #Stopwords + Acentuação + Stemming\n",
    "    \n",
    "    y,X = arr_assunto[:,0],arr_assunto[:,1]\n",
    "    y = [i.strip() for i in y]\n",
    "    model = SentenceTransformer(\"sentence-transformers/LabSE\")\n",
    "    corpus_embeddings = model.encode(data, convert_to_tensor=True)\n",
    "\n",
    "    '''\n",
    "    Obter o resultado do BM25 para cada query\n",
    "    '''\n",
    "    #Listas com os n documentos mais relevantes para cada versao do BM25\n",
    "    labels_nsL = list()             #Stopwords + Acentuação + Stemming + Unigram + Bigram (L)\n",
    "    l_v = list()\n",
    "    for l,x in zip((y),X):\n",
    "        if all_preprocessing:\n",
    "            tokenized_query3 = preprocess3(x)                   #Stopwords + Acentuação + Stemming\n",
    "            tokenized_queryb_stem = preprocess_ngram_stem(x,2)  #Stopwords + Acentuação + Stemming + Bigram\n",
    "        else:\n",
    "            tokenized_query3 = preprocess0(x)                   #Tokenizer\n",
    "        query_embedding = model.encode(x, convert_to_tensor=True)\n",
    "        #Stopwords + Acentuação + Stemming + Unigram + Bigram (L)\n",
    "        # scores_stem_l = list()\n",
    "        scores = bm25L_tokenstem.get_partial_score(tokenized_query3, data)\n",
    "        scores_normalized = (scores - np.min(scores)) / (np.max(scores) - np.min(scores))\n",
    "        # scores_stem_l.append(scores)\n",
    "        print(scores_normalized)\n",
    "        print(len(scores_normalized))\n",
    "        if all_preprocessing:\n",
    "            scores_bi = bm25L_bigram_stem.get_partial_score(tokenized_queryb_stem, data)\n",
    "            scores_bi_normalized = (scores_bi - np.min(scores_bi)) / (np.max(scores_bi) - np.min(scores_bi))\n",
    "            print(scores_bi_normalized)\n",
    "            print(len(scores_bi_normalized))\n",
    "            # scores_stem_l.append(scores_bi)\n",
    "        # top_n_stem_l = bm25L_tokenstem.get_top_n_ngram(scores_stem_l, data, n=top_k)\n",
    "        \n",
    "        \n",
    "        \n",
    "        \n",
    "        model_score = evaluate_model(query_embedding=query_embedding, corpus_embeddings=corpus_embeddings)\n",
    "        print(model_score)\n",
    "        print(len(model_score))\n",
    "        \n",
    "        if all_preprocessing:\n",
    "            final_score = scores_normalized + scores_bi_normalized + model_score\n",
    "        else:\n",
    "            final_score = scores_normalized + model_score\n",
    "            \n",
    "        print(final_score)\n",
    "        print(len(final_score))\n",
    "        return final_score\n",
    "\n",
    "        labelsnsL = [get_name(df,d,column_data) for d in top_n_stem_l]              #L\n",
    "        #Adicionar os resultados da query as listas\n",
    "        labels_nsL.append(labelsnsL)    #L\n",
    "\n",
    "        #Adicionar resposta esperada a lista\n",
    "        l_v.append(l)\n",
    "\n",
    "    res_nsL = list()                #Stopwords + Acentuação + Stemming + Unigram + Bigram (L)\n",
    "    for k in range(1, top_k+1):\n",
    "        resultsnsL = list()         #Stopwords + Acentuação + Stemming + Unigram + Bigram (L)\n",
    "        for i in range(len(l_v)):\n",
    "            if (l_v[i] in labels_nsL[i][:k]):\n",
    "                resultsnsL.append(1)\n",
    "            else:\n",
    "                resultsnsL.append(0)\n",
    "        res_nsL.append(sum(resultsnsL)/len(resultsnsL))\n",
    "\n",
    "    return res_nsL[-1]"
   ]
  },
  {
   "cell_type": "code",
   "execution_count": 49,
   "id": "ad93dc28",
   "metadata": {},
   "outputs": [
    {
     "name": "stderr",
     "output_type": "stream",
     "text": [
      "  0%|          | 0/5 [33:42<?, ?it/s]"
     ]
    },
    {
     "name": "stdout",
     "output_type": "stream",
     "text": [
      "[0.         0.14259792 0.         ... 0.         0.         0.        ]\n",
      "11321\n",
      "[0. 0. 0. ... 0. 0. 0.]\n",
      "11321\n",
      "tensor([0.1643, 0.1990, 0.1310,  ..., 0.1017, 0.2573, 0.1698])\n",
      "11321\n"
     ]
    },
    {
     "name": "stderr",
     "output_type": "stream",
     "text": [
      "\n"
     ]
    },
    {
     "ename": "TypeError",
     "evalue": "Concatenation operation is not implemented for NumPy arrays, use np.concatenate() instead. Please do not rely on this error; it may not be given on all Python implementations.",
     "output_type": "error",
     "traceback": [
      "\u001b[1;31m---------------------------------------------------------------------------\u001b[0m",
      "\u001b[1;31mTypeError\u001b[0m                                 Traceback (most recent call last)",
      "Cell \u001b[1;32mIn[49], line 13\u001b[0m\n\u001b[0;32m     11\u001b[0m df_assunto \u001b[38;5;241m=\u001b[39m pd\u001b[38;5;241m.\u001b[39mread_csv(\u001b[38;5;124mf\u001b[39m\u001b[38;5;124m\"\u001b[39m\u001b[38;5;124m../../propor2024/dados-conle-anonimizado-job_request-part\u001b[39m\u001b[38;5;132;01m{\u001b[39;00mi\u001b[38;5;132;01m}\u001b[39;00m\u001b[38;5;124m.csv\u001b[39m\u001b[38;5;124m\"\u001b[39m, encoding\u001b[38;5;241m=\u001b[39m\u001b[38;5;124m\"\u001b[39m\u001b[38;5;124mutf-8\u001b[39m\u001b[38;5;124m\"\u001b[39m)\u001b[38;5;241m.\u001b[39mto_numpy()\n\u001b[0;32m     12\u001b[0m \u001b[38;5;66;03m# raw = evaluate(df,df_assunto,top_k, False,column_data)\u001b[39;00m\n\u001b[1;32m---> 13\u001b[0m processed \u001b[38;5;241m=\u001b[39m \u001b[43mevaluate\u001b[49m\u001b[43m(\u001b[49m\u001b[43mdf\u001b[49m\u001b[43m,\u001b[49m\u001b[43mdf_assunto\u001b[49m\u001b[43m,\u001b[49m\u001b[43mtop_k\u001b[49m\u001b[43m,\u001b[49m\u001b[43m \u001b[49m\u001b[38;5;28;43;01mTrue\u001b[39;49;00m\u001b[43m,\u001b[49m\u001b[43mcolumn_data\u001b[49m\u001b[43m)\u001b[49m\n\u001b[0;32m     14\u001b[0m \u001b[38;5;28;01mbreak\u001b[39;00m\n\u001b[0;32m     15\u001b[0m all_models[element] \u001b[38;5;241m=\u001b[39m (raw, processed)\n",
      "Cell \u001b[1;32mIn[48], line 52\u001b[0m, in \u001b[0;36mevaluate\u001b[1;34m(df, arr_assunto, top_k, all_preprocessing, column_data)\u001b[0m\n\u001b[0;32m     49\u001b[0m \u001b[38;5;28mprint\u001b[39m(\u001b[38;5;28mlen\u001b[39m(model_score))\n\u001b[0;32m     51\u001b[0m \u001b[38;5;28;01mif\u001b[39;00m all_preprocessing:\n\u001b[1;32m---> 52\u001b[0m     final_score \u001b[38;5;241m=\u001b[39m \u001b[43mscores_normalized\u001b[49m\u001b[43m \u001b[49m\u001b[38;5;241;43m+\u001b[39;49m\u001b[43m \u001b[49m\u001b[43mscores_bi_normalized\u001b[49m\u001b[43m \u001b[49m\u001b[38;5;241;43m+\u001b[39;49m\u001b[43m \u001b[49m\u001b[43mmodel_score\u001b[49m\n\u001b[0;32m     53\u001b[0m \u001b[38;5;28;01melse\u001b[39;00m:\n\u001b[0;32m     54\u001b[0m     final_score \u001b[38;5;241m=\u001b[39m scores_normalized \u001b[38;5;241m+\u001b[39m model_score\n",
      "\u001b[1;31mTypeError\u001b[0m: Concatenation operation is not implemented for NumPy arrays, use np.concatenate() instead. Please do not rely on this error; it may not be given on all Python implementations."
     ]
    }
   ],
   "source": [
    "'''\n",
    "Verificar se a solicitação correta esta entre os k primeiro documentos retornados (de 1 ate 100)\n",
    "'''\n",
    "top_k = 20\n",
    "column_data = 'resumo'\n",
    "runs = 5\n",
    "\n",
    "for i in tqdm(range(0, runs)):\n",
    "    element = f'{column_data}_{i}'\n",
    "    df = pd.read_csv(f\"../../propor2024/base_20230428_douglas-bill_corpus-part{i}.csv\")\n",
    "    df_assunto = pd.read_csv(f\"../../propor2024/dados-conle-anonimizado-job_request-part{i}.csv\", encoding=\"utf-8\").to_numpy()\n",
    "    # raw = evaluate(df,df_assunto,top_k, False,column_data)\n",
    "    processed = evaluate(df,df_assunto,top_k, True,column_data)\n",
    "    break\n",
    "    all_models[element] = (raw, processed)\n",
    "    tqdm.write(f'BM25 raw Recall: {round(raw*100,2)} Jurix Recall:{round(processed*100,2)}')\n",
    "\n",
    "recalls_raw = [all_models[e][0] for e in all_models]\n",
    "recalls_processed = [all_models[e][1] for e in all_models]\n",
    "print(f'BM25L Raw data {recalls_raw} --> Média: {round(np.average(recalls_raw)*100,2)}. Desvio Padrão: {np.std(recalls_raw)}')\n",
    "print(f'BM25L preprocessed {recalls_processed} --> Média: {round(np.average(recalls_processed)*100,2)}. Desvio Padrão: {np.std(recalls_processed)}')\n"
   ]
  },
  {
   "cell_type": "markdown",
   "id": "1f6b2719",
   "metadata": {},
   "source": [
    "# Main"
   ]
  },
  {
   "cell_type": "code",
   "execution_count": null,
   "id": "f952a3ec",
   "metadata": {},
   "outputs": [],
   "source": []
  },
  {
   "cell_type": "code",
   "execution_count": null,
   "id": "88fa6693",
   "metadata": {},
   "outputs": [],
   "source": []
  },
  {
   "cell_type": "code",
   "execution_count": 14,
   "id": "c7891997",
   "metadata": {},
   "outputs": [
    {
     "name": "stderr",
     "output_type": "stream",
     "text": [
      " 20%|██        | 1/5 [04:01<16:04, 241.08s/it]"
     ]
    },
    {
     "name": "stdout",
     "output_type": "stream",
     "text": [
      "BM25 raw Recall: 57.78 Jurix Recall:66.67\n"
     ]
    },
    {
     "name": "stderr",
     "output_type": "stream",
     "text": [
      " 40%|████      | 2/5 [08:38<13:08, 262.69s/it]"
     ]
    },
    {
     "name": "stdout",
     "output_type": "stream",
     "text": [
      "BM25 raw Recall: 75.68 Jurix Recall:82.43\n"
     ]
    },
    {
     "name": "stderr",
     "output_type": "stream",
     "text": [
      " 60%|██████    | 3/5 [13:51<09:30, 285.29s/it]"
     ]
    },
    {
     "name": "stdout",
     "output_type": "stream",
     "text": [
      "BM25 raw Recall: 76.12 Jurix Recall:86.57\n"
     ]
    },
    {
     "name": "stderr",
     "output_type": "stream",
     "text": [
      " 80%|████████  | 4/5 [18:08<04:34, 274.28s/it]"
     ]
    },
    {
     "name": "stdout",
     "output_type": "stream",
     "text": [
      "BM25 raw Recall: 79.25 Jurix Recall:90.57\n"
     ]
    },
    {
     "name": "stderr",
     "output_type": "stream",
     "text": [
      "100%|██████████| 5/5 [22:27<00:00, 269.40s/it]"
     ]
    },
    {
     "name": "stdout",
     "output_type": "stream",
     "text": [
      "BM25 raw Recall: 78.57 Jurix Recall:87.5\n",
      "BM25L Raw data [0.5333333333333333, 0.6351351351351351, 0.5671641791044776, 0.6226415094339622, 0.5535714285714286, 0.5777777777777777, 0.7567567567567568, 0.7611940298507462, 0.7924528301886793, 0.7857142857142857] --> Média: 65.86. Desvio Padrão: 0.09884027084880588\n",
      "BM25L preprocessed [0.6, 0.7837837837837838, 0.7910447761194029, 0.7547169811320755, 0.7321428571428571, 0.6666666666666666, 0.8243243243243243, 0.8656716417910447, 0.9056603773584906, 0.875] --> Média: 77.99. Desvio Padrão: 0.09079096560216078\n"
     ]
    },
    {
     "name": "stderr",
     "output_type": "stream",
     "text": [
      "\n"
     ]
    }
   ],
   "source": [
    "'''\n",
    "Verificar se a solicitação correta esta entre os k primeiro documentos retornados (de 1 ate 100)\n",
    "'''\n",
    "top_k = 20\n",
    "column_data = 'hibrido'\n",
    "runs = 5\n",
    "\n",
    "for i in tqdm(range(0, runs)):\n",
    "    element = f'{column_data}_{i}'\n",
    "    df = pd.read_csv(f\"../../propor2024/base_20230428_douglas-bill_corpus-part{i}.csv\")\n",
    "    if column_data == 'hibrido':\n",
    "        df['hibrido'] = df['txtIndexacao'] + df['txtInteiroTeorLimpo']\n",
    "    df_assunto = pd.read_csv(f\"../../propor2024/dados-conle-anonimizado-job_request-part{i}.csv\", encoding=\"utf-8\").to_numpy()\n",
    "    raw = evaluate(df,df_assunto,top_k, False,column_data)\n",
    "    processed = evaluate(df,df_assunto,top_k, True,column_data)\n",
    "    all_models[element] = (raw, processed)\n",
    "    tqdm.write(f'BM25 raw Recall: {round(raw*100,2)} Jurix Recall:{round(processed*100,2)}')\n",
    "\n",
    "recalls_raw = [all_models[e][0] for e in all_models]\n",
    "recalls_processed = [all_models[e][1] for e in all_models]\n",
    "print(f'BM25L Raw data {recalls_raw} --> Média: {round(np.average(recalls_raw)*100,2)}. Desvio Padrão: {np.std(recalls_raw)}')\n",
    "print(f'BM25L preprocessed {recalls_processed} --> Média: {round(np.average(recalls_processed)*100,2)}. Desvio Padrão: {np.std(recalls_processed)}')\n",
    "\n"
   ]
  },
  {
   "cell_type": "code",
   "execution_count": 23,
   "id": "92108eef",
   "metadata": {},
   "outputs": [
    {
     "name": "stdout",
     "output_type": "stream",
     "text": [
      "txtEmenta\n",
      "RAW: [0.35555555555555557, 0.5135135135135135, 0.4925373134328358, 0.5283018867924528, 0.5535714285714286]\n",
      "Prosseced: [0.4888888888888889, 0.6216216216216216, 0.7164179104477612, 0.6415094339622641, 0.6428571428571429]\n",
      "txtIndexacao\n",
      "RAW: [0.3111111111111111, 0.36486486486486486, 0.31343283582089554, 0.3584905660377358, 0.2857142857142857]\n",
      "Prosseced: [0.4888888888888889, 0.6756756756756757, 0.6268656716417911, 0.6981132075471698, 0.6428571428571429]\n",
      "txtInteiroTeor\n",
      "RAW: [0.5777777777777777, 0.7702702702702703, 0.746268656716418, 0.7924528301886793, 0.7321428571428571]\n",
      "Prosseced: [0.6666666666666666, 0.8243243243243243, 0.8656716417910447, 0.8867924528301887, 0.8571428571428571]\n",
      "txtInteiroTeorLimpo\n",
      "RAW: []\n",
      "Prosseced: []\n",
      "resumo\n",
      "RAW: [0.5333333333333333, 0.6351351351351351, 0.5671641791044776, 0.6226415094339622, 0.5535714285714286]\n",
      "Prosseced: [0.6, 0.7837837837837838, 0.7910447761194029, 0.7547169811320755, 0.7321428571428571]\n"
     ]
    }
   ],
   "source": [
    "for i in ['txtEmenta','txtIndexacao','txtInteiroTeor','txtInteiroTeorLimpo','resumo']:\n",
    "    print(i)\n",
    "    print(f\"RAW: {[all_models[e][0] for e in all_models if e.startswith(i)]}\")\n",
    "    print(f\"Prosseced: {[all_models[e][1] for e in all_models if e.startswith(i)]}\")"
   ]
  },
  {
   "cell_type": "code",
   "execution_count": 24,
   "id": "0f4a481e",
   "metadata": {},
   "outputs": [
    {
     "data": {
      "text/plain": [
       "{'resumo_0': (0.5333333333333333, 0.6),\n",
       " 'resumo_1': (0.6351351351351351, 0.7837837837837838),\n",
       " 'resumo_2': (0.5671641791044776, 0.7910447761194029),\n",
       " 'resumo_3': (0.6226415094339622, 0.7547169811320755),\n",
       " 'resumo_4': (0.5535714285714286, 0.7321428571428571),\n",
       " 'hibrido_0': (0.5777777777777777, 0.6666666666666666),\n",
       " 'hibrido_1': (0.7567567567567568, 0.8243243243243243),\n",
       " 'hibrido_2': (0.7611940298507462, 0.8656716417910447),\n",
       " 'hibrido_3': (0.7924528301886793, 0.9056603773584906),\n",
       " 'hibrido_4': (0.7857142857142857, 0.875),\n",
       " 'txtEmenta_0': (0.35555555555555557, 0.4888888888888889),\n",
       " 'txtEmenta_1': (0.5135135135135135, 0.6216216216216216),\n",
       " 'txtEmenta_2': (0.4925373134328358, 0.7164179104477612),\n",
       " 'txtEmenta_3': (0.5283018867924528, 0.6415094339622641),\n",
       " 'txtEmenta_4': (0.5535714285714286, 0.6428571428571429),\n",
       " 'txtIndexacao_0': (0.3111111111111111, 0.4888888888888889),\n",
       " 'txtIndexacao_1': (0.36486486486486486, 0.6756756756756757),\n",
       " 'txtIndexacao_2': (0.31343283582089554, 0.6268656716417911),\n",
       " 'txtIndexacao_3': (0.3584905660377358, 0.6981132075471698),\n",
       " 'txtIndexacao_4': (0.2857142857142857, 0.6428571428571429),\n",
       " 'txtInteiroTeor_0': (0.5777777777777777, 0.6666666666666666),\n",
       " 'txtInteiroTeor_1': (0.7702702702702703, 0.8243243243243243),\n",
       " 'txtInteiroTeor_2': (0.746268656716418, 0.8656716417910447),\n",
       " 'txtInteiroTeor_3': (0.7924528301886793, 0.8867924528301887),\n",
       " 'txtInteiroTeor_4': (0.7321428571428571, 0.8571428571428571)}"
      ]
     },
     "execution_count": 24,
     "metadata": {},
     "output_type": "execute_result"
    }
   ],
   "source": [
    "all_models"
   ]
  },
  {
   "cell_type": "code",
   "execution_count": 15,
   "id": "3ba5e2c1",
   "metadata": {},
   "outputs": [
    {
     "name": "stderr",
     "output_type": "stream",
     "text": [
      " 20%|██        | 1/5 [00:24<01:37, 24.29s/it]"
     ]
    },
    {
     "name": "stdout",
     "output_type": "stream",
     "text": [
      "BM25 raw Recall: 35.56 Jurix Recall:48.89\n"
     ]
    },
    {
     "name": "stderr",
     "output_type": "stream",
     "text": [
      " 40%|████      | 2/5 [01:05<01:42, 34.21s/it]"
     ]
    },
    {
     "name": "stdout",
     "output_type": "stream",
     "text": [
      "BM25 raw Recall: 51.35 Jurix Recall:62.16\n"
     ]
    },
    {
     "name": "stderr",
     "output_type": "stream",
     "text": [
      " 60%|██████    | 3/5 [01:43<01:11, 35.87s/it]"
     ]
    },
    {
     "name": "stdout",
     "output_type": "stream",
     "text": [
      "BM25 raw Recall: 49.25 Jurix Recall:71.64\n"
     ]
    },
    {
     "name": "stderr",
     "output_type": "stream",
     "text": [
      " 80%|████████  | 4/5 [02:18<00:35, 35.71s/it]"
     ]
    },
    {
     "name": "stdout",
     "output_type": "stream",
     "text": [
      "BM25 raw Recall: 52.83 Jurix Recall:64.15\n"
     ]
    },
    {
     "name": "stderr",
     "output_type": "stream",
     "text": [
      "100%|██████████| 5/5 [02:56<00:00, 35.27s/it]"
     ]
    },
    {
     "name": "stdout",
     "output_type": "stream",
     "text": [
      "BM25 raw Recall: 55.36 Jurix Recall:64.29\n",
      "BM25L Raw data [0.5333333333333333, 0.6351351351351351, 0.5671641791044776, 0.6226415094339622, 0.5535714285714286, 0.5777777777777777, 0.7567567567567568, 0.7611940298507462, 0.7924528301886793, 0.7857142857142857, 0.35555555555555557, 0.5135135135135135, 0.4925373134328358, 0.5283018867924528, 0.5535714285714286] --> Média: 60.19. Desvio Padrão: 0.12056085865790536\n",
      "BM25L preprocessed [0.6, 0.7837837837837838, 0.7910447761194029, 0.7547169811320755, 0.7321428571428571, 0.6666666666666666, 0.8243243243243243, 0.8656716417910447, 0.9056603773584906, 0.875, 0.4888888888888889, 0.6216216216216216, 0.7164179104477612, 0.6415094339622641, 0.6428571428571429] --> Média: 72.74. Desvio Padrão: 0.11334771455999448\n"
     ]
    },
    {
     "name": "stderr",
     "output_type": "stream",
     "text": [
      "\n"
     ]
    }
   ],
   "source": [
    "'''\n",
    "Verificar se a solicitação correta esta entre os k primeiro documentos retornados (de 1 ate 100)\n",
    "'''\n",
    "top_k = 20\n",
    "column_data = 'txtEmenta'\n",
    "runs = 5\n",
    "\n",
    "for i in tqdm(range(0, runs)):\n",
    "    element = f'{column_data}_{i}'\n",
    "    df = pd.read_csv(f\"../../propor2024/base_20230428_douglas-bill_corpus-part{i}.csv\")\n",
    "    df_assunto = pd.read_csv(f\"../../propor2024/dados-conle-anonimizado-job_request-part{i}.csv\", encoding=\"utf-8\").to_numpy()\n",
    "    raw = evaluate(df,df_assunto,top_k, False,column_data)\n",
    "    processed = evaluate(df,df_assunto,top_k, True,column_data)\n",
    "    all_models[element] = (raw, processed)\n",
    "    tqdm.write(f'BM25 raw Recall: {round(raw*100,2)} Jurix Recall:{round(processed*100,2)}')\n",
    "\n",
    "recalls_raw = [all_models[e][0] for e in all_models]\n",
    "recalls_processed = [all_models[e][1] for e in all_models]\n",
    "print(f'BM25L Raw data {recalls_raw} --> Média: {round(np.average(recalls_raw)*100,2)}. Desvio Padrão: {np.std(recalls_raw)}')\n",
    "print(f'BM25L preprocessed {recalls_processed} --> Média: {round(np.average(recalls_processed)*100,2)}. Desvio Padrão: {np.std(recalls_processed)}')\n"
   ]
  },
  {
   "cell_type": "code",
   "execution_count": 16,
   "id": "2993b3f9",
   "metadata": {},
   "outputs": [
    {
     "name": "stderr",
     "output_type": "stream",
     "text": [
      " 20%|██        | 1/5 [00:25<01:42, 25.61s/it]"
     ]
    },
    {
     "name": "stdout",
     "output_type": "stream",
     "text": [
      "BM25 raw Recall: 31.11 Jurix Recall:48.89\n"
     ]
    },
    {
     "name": "stderr",
     "output_type": "stream",
     "text": [
      " 40%|████      | 2/5 [01:10<01:50, 36.87s/it]"
     ]
    },
    {
     "name": "stdout",
     "output_type": "stream",
     "text": [
      "BM25 raw Recall: 36.49 Jurix Recall:67.57\n"
     ]
    },
    {
     "name": "stderr",
     "output_type": "stream",
     "text": [
      " 60%|██████    | 3/5 [01:56<01:22, 41.04s/it]"
     ]
    },
    {
     "name": "stdout",
     "output_type": "stream",
     "text": [
      "BM25 raw Recall: 31.34 Jurix Recall:62.69\n"
     ]
    },
    {
     "name": "stderr",
     "output_type": "stream",
     "text": [
      " 80%|████████  | 4/5 [02:34<00:39, 39.82s/it]"
     ]
    },
    {
     "name": "stdout",
     "output_type": "stream",
     "text": [
      "BM25 raw Recall: 35.85 Jurix Recall:69.81\n"
     ]
    },
    {
     "name": "stderr",
     "output_type": "stream",
     "text": [
      "100%|██████████| 5/5 [03:14<00:00, 38.98s/it]"
     ]
    },
    {
     "name": "stdout",
     "output_type": "stream",
     "text": [
      "BM25 raw Recall: 28.57 Jurix Recall:64.29\n",
      "BM25L Raw data [0.5333333333333333, 0.6351351351351351, 0.5671641791044776, 0.6226415094339622, 0.5535714285714286, 0.5777777777777777, 0.7567567567567568, 0.7611940298507462, 0.7924528301886793, 0.7857142857142857, 0.35555555555555557, 0.5135135135135135, 0.4925373134328358, 0.5283018867924528, 0.5535714285714286, 0.3111111111111111, 0.36486486486486486, 0.31343283582089554, 0.3584905660377358, 0.2857142857142857] --> Média: 53.31. Desvio Padrão: 0.1591616396310393\n",
      "BM25L preprocessed [0.6, 0.7837837837837838, 0.7910447761194029, 0.7547169811320755, 0.7321428571428571, 0.6666666666666666, 0.8243243243243243, 0.8656716417910447, 0.9056603773584906, 0.875, 0.4888888888888889, 0.6216216216216216, 0.7164179104477612, 0.6415094339622641, 0.6428571428571429, 0.4888888888888889, 0.6756756756756757, 0.6268656716417911, 0.6981132075471698, 0.6428571428571429] --> Média: 70.21. Desvio Padrão: 0.1134955648439407\n"
     ]
    },
    {
     "name": "stderr",
     "output_type": "stream",
     "text": [
      "\n"
     ]
    }
   ],
   "source": [
    "top_k = 20\n",
    "column_data = 'txtIndexacao'\n",
    "runs = 5\n",
    "\n",
    "for i in tqdm(range(0, runs)):\n",
    "    element = f'{column_data}_{i}'\n",
    "    df = pd.read_csv(f\"../../propor2024/base_20230428_douglas-bill_corpus-part{i}.csv\")\n",
    "    df_assunto = pd.read_csv(f\"../../propor2024/dados-conle-anonimizado-job_request-part{i}.csv\", encoding=\"utf-8\").to_numpy()\n",
    "    raw = evaluate(df,df_assunto,top_k, False,column_data)\n",
    "    processed = evaluate(df,df_assunto,top_k, True,column_data)\n",
    "    all_models[element] = (raw, processed)\n",
    "    tqdm.write(f'BM25 raw Recall: {round(raw*100,2)} Jurix Recall:{round(processed*100,2)}')\n",
    "\n",
    "recalls_raw = [all_models[e][0] for e in all_models]\n",
    "recalls_processed = [all_models[e][1] for e in all_models]\n",
    "print(f'BM25L Raw data {recalls_raw} --> Média: {round(np.average(recalls_raw)*100,2)}. Desvio Padrão: {np.std(recalls_raw)}')\n",
    "print(f'BM25L preprocessed {recalls_processed} --> Média: {round(np.average(recalls_processed)*100,2)}. Desvio Padrão: {np.std(recalls_processed)}')\n"
   ]
  },
  {
   "cell_type": "code",
   "execution_count": 17,
   "id": "db1f431d",
   "metadata": {},
   "outputs": [
    {
     "name": "stderr",
     "output_type": "stream",
     "text": [
      " 20%|██        | 1/5 [03:44<14:58, 224.54s/it]"
     ]
    },
    {
     "name": "stdout",
     "output_type": "stream",
     "text": [
      "BM25 raw Recall: 57.78 Jurix Recall:66.67\n"
     ]
    },
    {
     "name": "stderr",
     "output_type": "stream",
     "text": [
      " 40%|████      | 2/5 [07:58<12:04, 241.64s/it]"
     ]
    },
    {
     "name": "stdout",
     "output_type": "stream",
     "text": [
      "BM25 raw Recall: 77.03 Jurix Recall:82.43\n"
     ]
    },
    {
     "name": "stderr",
     "output_type": "stream",
     "text": [
      " 60%|██████    | 3/5 [12:16<08:18, 249.05s/it]"
     ]
    },
    {
     "name": "stdout",
     "output_type": "stream",
     "text": [
      "BM25 raw Recall: 74.63 Jurix Recall:86.57\n"
     ]
    },
    {
     "name": "stderr",
     "output_type": "stream",
     "text": [
      " 80%|████████  | 4/5 [16:07<04:02, 242.25s/it]"
     ]
    },
    {
     "name": "stdout",
     "output_type": "stream",
     "text": [
      "BM25 raw Recall: 79.25 Jurix Recall:88.68\n"
     ]
    },
    {
     "name": "stderr",
     "output_type": "stream",
     "text": [
      "100%|██████████| 5/5 [20:16<00:00, 243.25s/it]"
     ]
    },
    {
     "name": "stdout",
     "output_type": "stream",
     "text": [
      "BM25 raw Recall: 73.21 Jurix Recall:85.71\n",
      "BM25L Raw data [0.5333333333333333, 0.6351351351351351, 0.5671641791044776, 0.6226415094339622, 0.5535714285714286, 0.5777777777777777, 0.7567567567567568, 0.7611940298507462, 0.7924528301886793, 0.7857142857142857, 0.35555555555555557, 0.5135135135135135, 0.4925373134328358, 0.5283018867924528, 0.5535714285714286, 0.3111111111111111, 0.36486486486486486, 0.31343283582089554, 0.3584905660377358, 0.2857142857142857, 0.5777777777777777, 0.7702702702702703, 0.746268656716418, 0.7924528301886793, 0.7321428571428571] --> Média: 57.13. Desvio Padrão: 0.16502045413963942\n",
      "BM25L preprocessed [0.6, 0.7837837837837838, 0.7910447761194029, 0.7547169811320755, 0.7321428571428571, 0.6666666666666666, 0.8243243243243243, 0.8656716417910447, 0.9056603773584906, 0.875, 0.4888888888888889, 0.6216216216216216, 0.7164179104477612, 0.6415094339622641, 0.6428571428571429, 0.4888888888888889, 0.6756756756756757, 0.6268656716417911, 0.6981132075471698, 0.6428571428571429, 0.6666666666666666, 0.8243243243243243, 0.8656716417910447, 0.8867924528301887, 0.8571428571428571] --> Média: 72.57. Desvio Padrão: 0.11743295093890845\n"
     ]
    },
    {
     "name": "stderr",
     "output_type": "stream",
     "text": [
      "\n"
     ]
    }
   ],
   "source": [
    "top_k = 20\n",
    "column_data = 'txtInteiroTeor'\n",
    "runs = 5\n",
    "\n",
    "for i in tqdm(range(0, runs)):\n",
    "    element = f'{column_data}_{i}'\n",
    "    df = pd.read_csv(f\"../../propor2024/base_20230428_douglas-bill_corpus-part{i}.csv\")\n",
    "    df_assunto = pd.read_csv(f\"../../propor2024/dados-conle-anonimizado-job_request-part{i}.csv\", encoding=\"utf-8\").to_numpy()\n",
    "    raw = evaluate(df,df_assunto,top_k, False,column_data)\n",
    "    processed = evaluate(df,df_assunto,top_k, True,column_data)\n",
    "    all_models[element] = (raw, processed)\n",
    "    tqdm.write(f'BM25 raw Recall: {round(raw*100,2)} Jurix Recall:{round(processed*100,2)}')\n",
    "\n",
    "recalls_raw = [all_models[e][0] for e in all_models]\n",
    "recalls_processed = [all_models[e][1] for e in all_models]\n",
    "print(f'BM25L Raw data {recalls_raw} --> Média: {round(np.average(recalls_raw)*100,2)}. Desvio Padrão: {np.std(recalls_raw)}')\n",
    "print(f'BM25L preprocessed {recalls_processed} --> Média: {round(np.average(recalls_processed)*100,2)}. Desvio Padrão: {np.std(recalls_processed)}')\n"
   ]
  },
  {
   "cell_type": "code",
   "execution_count": 31,
   "id": "2c240ada",
   "metadata": {},
   "outputs": [
    {
     "name": "stderr",
     "output_type": "stream",
     "text": [
      " 20%|██        | 1/5 [03:41<14:46, 221.59s/it]"
     ]
    },
    {
     "name": "stdout",
     "output_type": "stream",
     "text": [
      "BM25 raw Recall: 55.56 Jurix Recall:66.67\n"
     ]
    },
    {
     "name": "stderr",
     "output_type": "stream",
     "text": [
      " 40%|████      | 2/5 [07:52<11:57, 239.07s/it]"
     ]
    },
    {
     "name": "stdout",
     "output_type": "stream",
     "text": [
      "BM25 raw Recall: 77.03 Jurix Recall:82.43\n"
     ]
    },
    {
     "name": "stderr",
     "output_type": "stream",
     "text": [
      " 60%|██████    | 3/5 [12:14<08:19, 249.51s/it]"
     ]
    },
    {
     "name": "stdout",
     "output_type": "stream",
     "text": [
      "BM25 raw Recall: 74.63 Jurix Recall:86.57\n"
     ]
    },
    {
     "name": "stderr",
     "output_type": "stream",
     "text": [
      " 80%|████████  | 4/5 [16:07<04:03, 243.05s/it]"
     ]
    },
    {
     "name": "stdout",
     "output_type": "stream",
     "text": [
      "BM25 raw Recall: 79.25 Jurix Recall:88.68\n"
     ]
    },
    {
     "name": "stderr",
     "output_type": "stream",
     "text": [
      "100%|██████████| 5/5 [20:18<00:00, 243.67s/it]"
     ]
    },
    {
     "name": "stdout",
     "output_type": "stream",
     "text": [
      "BM25 raw Recall: 76.79 Jurix Recall:85.71\n",
      "BM25L Raw data [0.5555555555555556, 0.7702702702702703, 0.746268656716418, 0.7924528301886793, 0.7678571428571429] --> Média: 72.65. Desvio Padrão: 0.08670504793122462\n",
      "BM25L preprocessed [0.6666666666666666, 0.8243243243243243, 0.8656716417910447, 0.8867924528301887, 0.8571428571428571] --> Média: 82.01. Desvio Padrão: 0.07931766743993746\n"
     ]
    },
    {
     "name": "stderr",
     "output_type": "stream",
     "text": [
      "\n"
     ]
    }
   ],
   "source": [
    "top_k = 20\n",
    "column_data = 'txtInteiroTeorLimpo'\n",
    "runs = 5\n",
    "all_models = dict()\n",
    "\n",
    "for i in tqdm(range(0, runs)):\n",
    "    element = f'{column_data}_{i}'\n",
    "    df = pd.read_csv(f\"../../propor2024/base_20230428_douglas-bill_corpus-part{i}.csv\")\n",
    "    df_assunto = pd.read_csv(f\"../../propor2024/dados-conle-anonimizado-job_request-part{i}.csv\", encoding=\"utf-8\").to_numpy()\n",
    "    raw = evaluate(df,df_assunto,top_k, False,column_data)\n",
    "    processed = evaluate(df,df_assunto,top_k, True,column_data)\n",
    "    all_models[element] = (raw, processed)\n",
    "    tqdm.write(f'BM25 raw Recall: {round(raw*100,2)} Jurix Recall:{round(processed*100,2)}')\n",
    "\n",
    "recalls_raw = [all_models[e][0] for e in all_models]\n",
    "recalls_processed = [all_models[e][1] for e in all_models]\n",
    "print(f'BM25L Raw data {recalls_raw} --> Média: {round(np.average(recalls_raw)*100,2)}. Desvio Padrão: {np.std(recalls_raw)}')\n",
    "print(f'BM25L preprocessed {recalls_processed} --> Média: {round(np.average(recalls_processed)*100,2)}. Desvio Padrão: {np.std(recalls_processed)}')\n",
    "\n"
   ]
  },
  {
   "cell_type": "markdown",
   "id": "0ba46dcc",
   "metadata": {},
   "source": [
    "# Old"
   ]
  },
  {
   "cell_type": "code",
   "execution_count": 27,
   "id": "xPYJSzjhfAkx",
   "metadata": {
    "id": "xPYJSzjhfAkx"
   },
   "outputs": [
    {
     "name": "stdout",
     "output_type": "stream",
     "text": [
      "Stopwords + Acentuação + Stemming + Unigram + Bigram (Okapi)\n",
      "Quantidade encontrada: 17\n",
      "Quantidade total: 295\n",
      "Acurácia 10 docs: 0.05423728813559322\n",
      "Acurácia 20 docs: 0.05423728813559322\n",
      "Acurácia 100 docs: 0.0576271186440678\n",
      "\n",
      "\n",
      "Stopwords + Acentuação + Stemming + Unigram + Bigram (L)\n",
      "Quantidade encontrada: 17\n",
      "Quantidade total: 295\n",
      "Acurácia 10 docs: 0.05423728813559322\n",
      "Acurácia 20 docs: 0.05423728813559322\n",
      "Acurácia 100 docs: 0.0576271186440678\n",
      "\n",
      "\n",
      "Stopwords + Acentuação + Stemming + Unigram + Bigram (Plus)\n",
      "Quantidade encontrada: 17\n",
      "Quantidade total: 295\n",
      "Acurácia 10 docs: 0.05423728813559322\n",
      "Acurácia 20 docs: 0.05423728813559322\n",
      "Acurácia 100 docs: 0.0576271186440678\n",
      "\n",
      "\n"
     ]
    }
   ],
   "source": [
    "'''\n",
    "Exibe a acuracia do algoritmo\n",
    "'''\n",
    "print(\"Stopwords + Acentuação + Stemming + Unigram + Bigram (Okapi)\")\n",
    "print(f\"Quantidade encontrada: {sum(resultsns)}\")\n",
    "print(f\"Quantidade total: {len(arr_assunto)}\")\n",
    "print(f\"Acurácia 10 docs: {res_ns[9]}\")\n",
    "print(f\"Acurácia 20 docs: {res_ns[19]}\")\n",
    "print(f\"Acurácia {top_k} docs: {res_ns[-1]}\\n\\n\")\n",
    "\n",
    "print(\"Stopwords + Acentuação + Stemming + Unigram + Bigram (L)\")\n",
    "print(f\"Quantidade encontrada: {sum(resultsnsL)}\")\n",
    "print(f\"Quantidade total: {len(arr_assunto)}\")\n",
    "print(f\"Acurácia 10 docs: {res_nsL[9]}\")\n",
    "print(f\"Acurácia 20 docs: {res_nsL[19]}\")\n",
    "print(f\"Acurácia {top_k} docs: {res_nsL[-1]}\\n\\n\")\n",
    "\n",
    "print(\"Stopwords + Acentuação + Stemming + Unigram + Bigram (Plus)\")\n",
    "print(f\"Quantidade encontrada: {sum(resultsnsP)}\")\n",
    "print(f\"Quantidade total: {len(arr_assunto)}\")\n",
    "print(f\"Acurácia 10 docs: {res_nsP[9]}\")\n",
    "print(f\"Acurácia 20 docs: {res_nsP[19]}\")\n",
    "print(f\"Acurácia {top_k} docs: {res_nsP[-1]}\\n\\n\")"
   ]
  },
  {
   "attachments": {},
   "cell_type": "markdown",
   "id": "7ee82683",
   "metadata": {},
   "source": [
    "Stopwords + Acentuação + Stemming + Unigram + Bigram (Okapi)<br>\n",
    "Quantidade encontrada: 211<br>\n",
    "Quantidade total: 295<br>\n",
    "Acurácia 10 docs: 0.6067796610169491<br>\n",
    "Acurácia 100 docs: 0.7152542372881356<br>\n",
    "\n",
    "\n",
    "Stopwords + Acentuação + Stemming + Unigram + Bigram (L)<br>\n",
    "Quantidade encontrada: 208<br>\n",
    "Quantidade total: 295<br>\n",
    "Acurácia 10 docs: 0.6033898305084746<br>\n",
    "Acurácia 100 docs: 0.7050847457627119<br>\n",
    "\n",
    "\n",
    "Stopwords + Acentuação + Stemming + Unigram + Bigram (Plus)<br>\n",
    "Quantidade encontrada: 209<br>\n",
    "Quantidade total: 295<br>\n",
    "Acurácia 10 docs: 0.6135593220338983<br>\n",
    "Acurácia 100 docs: 0.7084745762711865<br>"
   ]
  },
  {
   "cell_type": "code",
   "execution_count": 28,
   "id": "724a0b7b",
   "metadata": {},
   "outputs": [
    {
     "data": {
      "text/plain": [
       "'imgArquivoTeorPDF'"
      ]
     },
     "execution_count": 28,
     "metadata": {},
     "output_type": "execute_result"
    }
   ],
   "source": [
    "column_data"
   ]
  },
  {
   "cell_type": "code",
   "execution_count": 27,
   "id": "b3a4e626",
   "metadata": {
    "id": "b3a4e626"
   },
   "outputs": [],
   "source": [
    "with open(f\"../models/{column_data+'+'+column_data2 if column_data2!=None else column_data}/bm25_2019_Okapi{'0' if not all_preprocessing else ''}.npy\", \"wb\") as f:\n",
    "    np.save(f,res_ns)\n",
    "with open(f\"../models/{column_data+'+'+column_data2 if column_data2!=None else column_data}/bm25_2019_Plus{'0' if not all_preprocessing else ''}.npy\", \"wb\") as f:\n",
    "    np.save(f,res_nsP)\n",
    "with open(f\"../models/{column_data+'+'+column_data2 if column_data2!=None else column_data}/bm25_2019_L{'0' if not all_preprocessing else ''}.npy\", \"wb\") as f:\n",
    "    np.save(f,res_nsL)\n"
   ]
  },
  {
   "cell_type": "code",
   "execution_count": 27,
   "id": "USz8zjC1fE8O",
   "metadata": {
    "id": "USz8zjC1fE8O"
   },
   "outputs": [],
   "source": [
    "import matplotlib.pyplot as plt\n",
    "import numpy as np\n",
    "import seaborn as sns"
   ]
  },
  {
   "cell_type": "code",
   "execution_count": 28,
   "id": "0ce6ad66",
   "metadata": {},
   "outputs": [
    {
     "data": {
      "image/png": "[encoded data removed]",
      "text/plain": [
       "<Figure size 1440x720 with 1 Axes>"
      ]
     },
     "metadata": {},
     "output_type": "display_data"
    }
   ],
   "source": [
    "sns.set(palette='colorblind')\n",
    "plt.figure(figsize=(20,10))\n",
    "plt.rc('legend', fontsize=18)\n",
    "\n",
    "plt.plot(np.arange(1,top_k+1), res_ns, label=f\"{'Stopwords + Acentuação + Stemming + Unigram + Bigram' if all_preprocessing else 'Sem pré-processamento'} (Okapi)\")\n",
    "plt.plot(np.arange(1,top_k+1), res_nsL, label=f\"{'Stopwords + Acentuação + Stemming + Unigram + Bigram' if all_preprocessing else 'Sem pré-processamento'} (L)\")\n",
    "plt.plot(np.arange(1,top_k+1), res_nsP, label=f\"{'Stopwords + Acentuação + Stemming + Unigram + Bigram' if all_preprocessing else 'Sem pré-processamento'} (Plus)\")\n",
    "\n",
    "plt.title(column_data+'+'+column_data2 if column_data2!=None else column_data)\n",
    "plt.legend()\n",
    "plt.ylabel(\"Target in Docs\")\n",
    "plt.xlabel(\"Top K Docs\")\n",
    "plt.show()\n"
   ]
  },
  {
   "cell_type": "code",
   "execution_count": 30,
   "id": "u3Enqe5XfHVR",
   "metadata": {
    "id": "u3Enqe5XfHVR",
    "pycharm": {
     "name": "#%%\n"
    }
   },
   "outputs": [
    {
     "data": {
      "image/png": "[encoded data removed]",
      "text/plain": [
       "<Figure size 1440x720 with 1 Axes>"
      ]
     },
     "metadata": {},
     "output_type": "display_data"
    }
   ],
   "source": [
    "sns.set(palette='colorblind')\n",
    "plt.figure(figsize=(20,10))\n",
    "plt.rc('legend', fontsize=18)\n",
    "\n",
    "plt.plot(np.arange(1,top_k+1), res_ns, label=f\"{'Stopwords + Acentuação + Stemming + Unigram + Bigram' if all_preprocessing else 'Sem pré-processamento'} (Okapi)\")\n",
    "plt.plot(np.arange(1,top_k+1), res_nsL, label=f\"{'Stopwords + Acentuação + Stemming + Unigram + Bigram' if all_preprocessing else 'Sem pré-processamento'} (L)\")\n",
    "plt.plot(np.arange(1,top_k+1), res_nsP, label=f\"{'Stopwords + Acentuação + Stemming + Unigram + Bigram' if all_preprocessing else 'Sem pré-processamento'} (Plus)\")\n",
    "\n",
    "plt.title(column_data+'+'+column_data2 if column_data2!=None else column_data)\n",
    "plt.legend()\n",
    "plt.ylabel(\"Target in Docs\")\n",
    "plt.xlabel(\"Top K Docs\")\n",
    "plt.show()\n",
    "\n"
   ]
  },
  {
   "cell_type": "code",
   "execution_count": 46,
   "id": "wBxTNIYNBksd",
   "metadata": {
    "id": "wBxTNIYNBksd"
   },
   "outputs": [],
   "source": [
    "df2 = df[['txtNome','txtEmenta']]"
   ]
  },
  {
   "cell_type": "code",
   "execution_count": 51,
   "id": "087ff424",
   "metadata": {},
   "outputs": [
    {
     "name": "stderr",
     "output_type": "stream",
     "text": [
      "C:\\Users\\josed\\AppData\\Local\\Temp\\ipykernel_14128\\3090783680.py:1: SettingWithCopyWarning: \n",
      "A value is trying to be set on a copy of a slice from a DataFrame.\n",
      "Try using .loc[row_indexer,col_indexer] = value instead\n",
      "\n",
      "See the caveats in the documentation: https://pandas.pydata.org/pandas-docs/stable/user_guide/indexing.html#returning-a-view-versus-a-copy\n",
      "  df2['jurix'] = pd.DataFrame([' '.join(e) for e in tokenized_corpus3])\n"
     ]
    }
   ],
   "source": [
    "df2['jurix'] = pd.DataFrame([' '.join(e) for e in tokenized_corpus3])"
   ]
  },
  {
   "cell_type": "code",
   "execution_count": 52,
   "id": "3c1b3717",
   "metadata": {},
   "outputs": [
    {
     "data": {
      "text/html": [
       "<div>\n",
       "<style scoped>\n",
       "    .dataframe tbody tr th:only-of-type {\n",
       "        vertical-align: middle;\n",
       "    }\n",
       "\n",
       "    .dataframe tbody tr th {\n",
       "        vertical-align: top;\n",
       "    }\n",
       "\n",
       "    .dataframe thead th {\n",
       "        text-align: right;\n",
       "    }\n",
       "</style>\n",
       "<table border=\"1\" class=\"dataframe\">\n",
       "  <thead>\n",
       "    <tr style=\"text-align: right;\">\n",
       "      <th></th>\n",
       "      <th>txtNome</th>\n",
       "      <th>txtEmenta</th>\n",
       "      <th>jurix</th>\n",
       "    </tr>\n",
       "  </thead>\n",
       "  <tbody>\n",
       "    <tr>\n",
       "      <th>0</th>\n",
       "      <td>PL 1165/1999</td>\n",
       "      <td>Altera dispositivo da Lei nº 8.987, de 13 de f...</td>\n",
       "      <td>alter dispositiv lei 8 987 13 fevereir 1995 es...</td>\n",
       "    </tr>\n",
       "    <tr>\n",
       "      <th>1</th>\n",
       "      <td>PL 3097/1992</td>\n",
       "      <td>Dispõe sobre a eleição de diretores de fundos ...</td>\n",
       "      <td>dispo sobr eleica diretor fund pensa patrocina...</td>\n",
       "    </tr>\n",
       "    <tr>\n",
       "      <th>2</th>\n",
       "      <td>PL 3927/2000</td>\n",
       "      <td>Altera a composição dos Tribunais Regionais do...</td>\n",
       "      <td>alter composica tribunal regional trabalh menc...</td>\n",
       "    </tr>\n",
       "    <tr>\n",
       "      <th>3</th>\n",
       "      <td>PL 4117/1998</td>\n",
       "      <td>Dispõe sobre o acesso a ambientes de uso colet...</td>\n",
       "      <td>dispo sobr acess ambient uso coletiv deficient...</td>\n",
       "    </tr>\n",
       "    <tr>\n",
       "      <th>4</th>\n",
       "      <td>PL 4395/1998</td>\n",
       "      <td>Estabelece as Diretrizes Nacionais de Defesa C...</td>\n",
       "      <td>estabelec diretriz nacional defes civil</td>\n",
       "    </tr>\n",
       "    <tr>\n",
       "      <th>...</th>\n",
       "      <td>...</td>\n",
       "      <td>...</td>\n",
       "      <td>...</td>\n",
       "    </tr>\n",
       "    <tr>\n",
       "      <th>57104</th>\n",
       "      <td>PL 2233/2023</td>\n",
       "      <td>Altera o parágrafo único do art. 71 do Código ...</td>\n",
       "      <td>alter paragraf unic art 71 codig penal aprovad...</td>\n",
       "    </tr>\n",
       "    <tr>\n",
       "      <th>57105</th>\n",
       "      <td>PL 3616/2019</td>\n",
       "      <td>Altera a Lei nº 9.503, de 23 de setembro de 19...</td>\n",
       "      <td>alter lei 9 503 23 setembr 1997 codig transit ...</td>\n",
       "    </tr>\n",
       "    <tr>\n",
       "      <th>57106</th>\n",
       "      <td>PL 1822/2019</td>\n",
       "      <td>Altera a Lei nº 11.340, de 7 de agosto de 2006...</td>\n",
       "      <td>alter lei 11 340 7 agost 2006 lei mari penh de...</td>\n",
       "    </tr>\n",
       "    <tr>\n",
       "      <th>57107</th>\n",
       "      <td>PL 3815/2019</td>\n",
       "      <td>Altera a Lei nº 7.565, de 19 de dezembro de 19...</td>\n",
       "      <td>alter lei 7 565 19 dezembr 1986 codig brasilei...</td>\n",
       "    </tr>\n",
       "    <tr>\n",
       "      <th>57108</th>\n",
       "      <td>PL 3130/2019</td>\n",
       "      <td>Altera a Lei nº 13.675, de 11 de junho de 2018...</td>\n",
       "      <td>alter lei 13 675 11 junh 2018 prever objetiv r...</td>\n",
       "    </tr>\n",
       "  </tbody>\n",
       "</table>\n",
       "<p>57109 rows × 3 columns</p>\n",
       "</div>"
      ],
      "text/plain": [
       "            txtNome                                          txtEmenta  \\\n",
       "0      PL 1165/1999  Altera dispositivo da Lei nº 8.987, de 13 de f...   \n",
       "1      PL 3097/1992  Dispõe sobre a eleição de diretores de fundos ...   \n",
       "2      PL 3927/2000  Altera a composição dos Tribunais Regionais do...   \n",
       "3      PL 4117/1998  Dispõe sobre o acesso a ambientes de uso colet...   \n",
       "4      PL 4395/1998  Estabelece as Diretrizes Nacionais de Defesa C...   \n",
       "...             ...                                                ...   \n",
       "57104  PL 2233/2023  Altera o parágrafo único do art. 71 do Código ...   \n",
       "57105  PL 3616/2019  Altera a Lei nº 9.503, de 23 de setembro de 19...   \n",
       "57106  PL 1822/2019  Altera a Lei nº 11.340, de 7 de agosto de 2006...   \n",
       "57107  PL 3815/2019  Altera a Lei nº 7.565, de 19 de dezembro de 19...   \n",
       "57108  PL 3130/2019  Altera a Lei nº 13.675, de 11 de junho de 2018...   \n",
       "\n",
       "                                                   jurix  \n",
       "0      alter dispositiv lei 8 987 13 fevereir 1995 es...  \n",
       "1      dispo sobr eleica diretor fund pensa patrocina...  \n",
       "2      alter composica tribunal regional trabalh menc...  \n",
       "3      dispo sobr acess ambient uso coletiv deficient...  \n",
       "4                estabelec diretriz nacional defes civil  \n",
       "...                                                  ...  \n",
       "57104  alter paragraf unic art 71 codig penal aprovad...  \n",
       "57105  alter lei 9 503 23 setembr 1997 codig transit ...  \n",
       "57106  alter lei 11 340 7 agost 2006 lei mari penh de...  \n",
       "57107  alter lei 7 565 19 dezembr 1986 codig brasilei...  \n",
       "57108  alter lei 13 675 11 junh 2018 prever objetiv r...  \n",
       "\n",
       "[57109 rows x 3 columns]"
      ]
     },
     "execution_count": 52,
     "metadata": {},
     "output_type": "execute_result"
    }
   ],
   "source": [
    "df2"
   ]
  },
  {
   "cell_type": "code",
   "execution_count": 54,
   "id": "e1e03df1",
   "metadata": {},
   "outputs": [],
   "source": [
    "df2.to_csv('../../data/base_20230428_douglas-jurix.csv', index=False)"
   ]
  },
  {
   "cell_type": "code",
   "execution_count": null,
   "id": "81d8cdc1",
   "metadata": {},
   "outputs": [],
   "source": []
  }
 ],
 "metadata": {
  "accelerator": "GPU",
  "colab": {
   "provenance": []
  },
  "gpuClass": "standard",
  "kernelspec": {
   "display_name": "base",
   "language": "python",
   "name": "python3"
  },
  "language_info": {
   "codemirror_mode": {
    "name": "ipython",
    "version": 3
   },
   "file_extension": ".py",
   "mimetype": "text/x-python",
   "name": "python",
   "nbconvert_exporter": "python",
   "pygments_lexer": "ipython3",
   "version": "3.11.6"
  },
  "vscode": {
   "interpreter": {
    "hash": "f19f93563dacda22739fc5a3e009b744cceb1cf4fdf5c4ccdbebf018b7065255"
   }
  }
 },
 "nbformat": 4,
 "nbformat_minor": 5
}
